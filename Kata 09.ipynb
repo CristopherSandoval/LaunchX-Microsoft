{
 "cells": [
  {
   "cell_type": "markdown",
   "metadata": {},
   "source": [
    "## EJERCICIO 1\n"
   ]
  },
  {
   "cell_type": "code",
   "execution_count": 26,
   "metadata": {},
   "outputs": [
    {
     "name": "stdout",
     "output_type": "stream",
     "text": [
      "The average is: 57. \n",
      " part 1 is: 73. \n",
      " part2 is: 45. \n",
      " part3 is: 54\n"
     ]
    }
   ],
   "source": [
    "def combustible_report(part1, part2, part3):\n",
    "    return f\"The average is: {round(averagee([part1, part2, part3]))}. \\n part 1 is: {part1}. \\n part2 is: {part2}. \\n part3 is: {part3}\"\n",
    "\n",
    "print(combustible_report(73, 45, 54))\n",
    "\n",
    "def averagee(values):\n",
    "    total = sum(values)\n",
    "    number_of_items = len(values)\n",
    "    return total/number_of_items\n"
   ]
  },
  {
   "cell_type": "markdown",
   "metadata": {},
   "source": [
    "## EJERCICIO 2\n"
   ]
  },
  {
   "cell_type": "code",
   "execution_count": 47,
   "metadata": {},
   "outputs": [
    {
     "name": "stdout",
     "output_type": "stream",
     "text": [
      "Mission to Marte \n",
      " total time: 135. \n",
      " total fuel: 500000000\n",
      " main tank quedan 200000000\n",
      "external tank quedan 300000000\n",
      "\n"
     ]
    }
   ],
   "source": [
    "def mission_report(pre_launch_time, flight_time, destination, external_tank, main_tank):\n",
    "    return f\"Mission to {destination}. \\n total time: {pre_launch_time + flight_time} minutes. \\n Total fuel : {external_tank + main_tank}\"\n",
    "\n",
    "def mission_report1(destination, *minutes, **fuel_reservoirs):\n",
    "    return f\"Mission to {destination} \\n total time: {sum(minutes)}. \\n total fuel: {sum(fuel_reservoirs.values())}\"\n",
    "\n",
    "def mission_report2(destination, *minutes, **fuel_reservoirs):\n",
    "    report = f\"Mission to {destination} \\n total time: {sum(minutes)}. \\n total fuel: {sum(fuel_reservoirs.values())}\\n \"\n",
    "    for tanque, gallons in fuel_reservoirs.items():\n",
    "        report += f\"{tanque} tank quedan {gallons}\\n\"\n",
    "    return report\n",
    "\n",
    "print(mission_report2(\"Marte\", 45, 45, 45, main = 200000000, external = 300000000))"
   ]
  }
 ],
 "metadata": {
  "interpreter": {
   "hash": "57990f1ad2ea89c67ddae7f31d40c478205c5912da0fccfb7c5cfbb2b8bf17ad"
  },
  "kernelspec": {
   "display_name": "Python 3.9.6 64-bit",
   "language": "python",
   "name": "python3"
  },
  "language_info": {
   "codemirror_mode": {
    "name": "ipython",
    "version": 3
   },
   "file_extension": ".py",
   "mimetype": "text/x-python",
   "name": "python",
   "nbconvert_exporter": "python",
   "pygments_lexer": "ipython3",
   "version": "3.9.6"
  },
  "orig_nbformat": 4
 },
 "nbformat": 4,
 "nbformat_minor": 2
}
